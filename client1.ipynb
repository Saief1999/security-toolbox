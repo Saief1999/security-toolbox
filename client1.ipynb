{
 "cells": [
  {
   "cell_type": "code",
   "execution_count": 1,
   "metadata": {
    "collapsed": true
   },
   "outputs": [],
   "source": [
    "import client\n",
    "import kerberos as krb\n",
    "cl = client.ClientConnection(\"saiefzneti.tn\",9950,wait=True)"
   ]
  },
  {
   "cell_type": "code",
   "execution_count": 5,
   "outputs": [
    {
     "ename": "KeyboardInterrupt",
     "evalue": "",
     "output_type": "error",
     "traceback": [
      "\u001B[0;31m---------------------------------------------------------------------------\u001B[0m",
      "\u001B[0;31mKeyboardInterrupt\u001B[0m                         Traceback (most recent call last)",
      "Input \u001B[0;32mIn [5]\u001B[0m, in \u001B[0;36m<cell line: 1>\u001B[0;34m()\u001B[0m\n\u001B[0;32m----> 1\u001B[0m cl \u001B[38;5;241m=\u001B[39m \u001B[43mclient\u001B[49m\u001B[38;5;241;43m.\u001B[39;49m\u001B[43mClientConnection\u001B[49m\u001B[43m(\u001B[49m\u001B[38;5;124;43m\"\u001B[39;49m\u001B[38;5;124;43msaiefzneti.tn\u001B[39;49m\u001B[38;5;124;43m\"\u001B[39;49m\u001B[43m,\u001B[49m\u001B[38;5;241;43m9913\u001B[39;49m\u001B[43m,\u001B[49m\u001B[43mwait\u001B[49m\u001B[38;5;241;43m=\u001B[39;49m\u001B[38;5;28;43;01mTrue\u001B[39;49;00m\u001B[43m)\u001B[49m\n",
      "File \u001B[0;32m~/PycharmProjects/security-toolbox/client.py:27\u001B[0m, in \u001B[0;36mClientConnection.__init__\u001B[0;34m(self, host, port, wait)\u001B[0m\n\u001B[1;32m     25\u001B[0m \u001B[38;5;28mself\u001B[39m\u001B[38;5;241m.\u001B[39mcontext\u001B[38;5;241m=\u001B[39m\u001B[38;5;28;01mNone\u001B[39;00m\n\u001B[1;32m     26\u001B[0m \u001B[38;5;28;01mif\u001B[39;00m wait:\n\u001B[0;32m---> 27\u001B[0m     \u001B[38;5;28;43mself\u001B[39;49m\u001B[38;5;241;43m.\u001B[39;49m\u001B[43mreceive_connection\u001B[49m\u001B[43m(\u001B[49m\u001B[43m)\u001B[49m\n\u001B[1;32m     28\u001B[0m \u001B[38;5;28;01melse\u001B[39;00m:\n\u001B[1;32m     29\u001B[0m     \u001B[38;5;28mself\u001B[39m\u001B[38;5;241m.\u001B[39mreceiving_thread \u001B[38;5;241m=\u001B[39m threading\u001B[38;5;241m.\u001B[39mThread(target\u001B[38;5;241m=\u001B[39mClientConnection\u001B[38;5;241m.\u001B[39mreceive_connection, args\u001B[38;5;241m=\u001B[39m(\u001B[38;5;28mself\u001B[39m,))\n",
      "File \u001B[0;32m~/PycharmProjects/security-toolbox/client.py:35\u001B[0m, in \u001B[0;36mClientConnection.receive_connection\u001B[0;34m(self)\u001B[0m\n\u001B[1;32m     32\u001B[0m \u001B[38;5;124;03m\"\"\"receives a connection over the receiving socket\u001B[39;00m\n\u001B[1;32m     33\u001B[0m \u001B[38;5;124;03m\"\"\"\u001B[39;00m\n\u001B[1;32m     34\u001B[0m \u001B[38;5;28mself\u001B[39m\u001B[38;5;241m.\u001B[39mreceiving_socket\u001B[38;5;241m.\u001B[39mlisten(\u001B[38;5;241m5\u001B[39m)  \u001B[38;5;66;03m# Listening for messages\u001B[39;00m\n\u001B[0;32m---> 35\u001B[0m \u001B[38;5;28mself\u001B[39m\u001B[38;5;241m.\u001B[39msending_socket, \u001B[38;5;28mself\u001B[39m\u001B[38;5;241m.\u001B[39mclient_ip \u001B[38;5;241m=\u001B[39m \u001B[38;5;28;43mself\u001B[39;49m\u001B[38;5;241;43m.\u001B[39;49m\u001B[43mreceiving_socket\u001B[49m\u001B[38;5;241;43m.\u001B[39;49m\u001B[43maccept\u001B[49m\u001B[43m(\u001B[49m\u001B[43m)\u001B[49m\n\u001B[1;32m     36\u001B[0m accept_decision \u001B[38;5;241m=\u001B[39m \u001B[38;5;124m\"\u001B[39m\u001B[38;5;124m\"\u001B[39m\n\u001B[1;32m     37\u001B[0m \u001B[38;5;28;01mwhile\u001B[39;00m accept_decision \u001B[38;5;129;01mnot\u001B[39;00m \u001B[38;5;129;01min\u001B[39;00m {\u001B[38;5;124m'\u001B[39m\u001B[38;5;124mY\u001B[39m\u001B[38;5;124m'\u001B[39m, \u001B[38;5;124m'\u001B[39m\u001B[38;5;124mN\u001B[39m\u001B[38;5;124m'\u001B[39m}:\n",
      "File \u001B[0;32m/usr/lib64/python3.10/socket.py:293\u001B[0m, in \u001B[0;36msocket.accept\u001B[0;34m(self)\u001B[0m\n\u001B[1;32m    286\u001B[0m \u001B[38;5;28;01mdef\u001B[39;00m \u001B[38;5;21maccept\u001B[39m(\u001B[38;5;28mself\u001B[39m):\n\u001B[1;32m    287\u001B[0m     \u001B[38;5;124;03m\"\"\"accept() -> (socket object, address info)\u001B[39;00m\n\u001B[1;32m    288\u001B[0m \n\u001B[1;32m    289\u001B[0m \u001B[38;5;124;03m    Wait for an incoming connection.  Return a new socket\u001B[39;00m\n\u001B[1;32m    290\u001B[0m \u001B[38;5;124;03m    representing the connection, and the address of the client.\u001B[39;00m\n\u001B[1;32m    291\u001B[0m \u001B[38;5;124;03m    For IP sockets, the address info is a pair (hostaddr, port).\u001B[39;00m\n\u001B[1;32m    292\u001B[0m \u001B[38;5;124;03m    \"\"\"\u001B[39;00m\n\u001B[0;32m--> 293\u001B[0m     fd, addr \u001B[38;5;241m=\u001B[39m \u001B[38;5;28;43mself\u001B[39;49m\u001B[38;5;241;43m.\u001B[39;49m\u001B[43m_accept\u001B[49m\u001B[43m(\u001B[49m\u001B[43m)\u001B[49m\n\u001B[1;32m    294\u001B[0m     sock \u001B[38;5;241m=\u001B[39m socket(\u001B[38;5;28mself\u001B[39m\u001B[38;5;241m.\u001B[39mfamily, \u001B[38;5;28mself\u001B[39m\u001B[38;5;241m.\u001B[39mtype, \u001B[38;5;28mself\u001B[39m\u001B[38;5;241m.\u001B[39mproto, fileno\u001B[38;5;241m=\u001B[39mfd)\n\u001B[1;32m    295\u001B[0m     \u001B[38;5;66;03m# Issue #7995: if no default timeout is set and the listening\u001B[39;00m\n\u001B[1;32m    296\u001B[0m     \u001B[38;5;66;03m# socket had a (non-zero) timeout, force the new socket in blocking\u001B[39;00m\n\u001B[1;32m    297\u001B[0m     \u001B[38;5;66;03m# mode to override platform-specific socket flags inheritance.\u001B[39;00m\n",
      "\u001B[0;31mKeyboardInterrupt\u001B[0m: "
     ]
    }
   ],
   "source": [],
   "metadata": {
    "collapsed": false,
    "pycharm": {
     "name": "#%%\n"
    }
   }
  },
  {
   "cell_type": "code",
   "execution_count": null,
   "outputs": [],
   "source": [],
   "metadata": {
    "collapsed": false,
    "pycharm": {
     "name": "#%%\n"
    }
   }
  },
  {
   "cell_type": "code",
   "execution_count": null,
   "outputs": [],
   "source": [
    "import client\n",
    "import kerberos as krb\n",
    "cl = client.ClientConnection(\"ramizouari.tn\",9951,wait=False)\n",
    "cl.emit_connection(\"saiefzneti.tn\",9950)"
   ],
   "metadata": {
    "collapsed": false,
    "pycharm": {
     "name": "#%%\n"
    }
   }
  },
  {
   "cell_type": "code",
   "execution_count": null,
   "outputs": [],
   "source": [],
   "metadata": {
    "collapsed": false,
    "pycharm": {
     "name": "#%%\n"
    }
   }
  }
 ],
 "metadata": {
  "kernelspec": {
   "display_name": "Python 3",
   "language": "python",
   "name": "python3"
  },
  "language_info": {
   "codemirror_mode": {
    "name": "ipython",
    "version": 2
   },
   "file_extension": ".py",
   "mimetype": "text/x-python",
   "name": "python",
   "nbconvert_exporter": "python",
   "pygments_lexer": "ipython2",
   "version": "2.7.6"
  }
 },
 "nbformat": 4,
 "nbformat_minor": 0
}